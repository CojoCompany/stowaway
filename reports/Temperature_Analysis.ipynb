{
 "cells": [
  {
   "cell_type": "markdown",
   "metadata": {},
   "source": [
    "# Temperature Analysis"
   ]
  },
  {
   "cell_type": "code",
   "execution_count": null,
   "metadata": {
    "collapsed": false
   },
   "outputs": [],
   "source": [
    "import pandas\n",
    "import numpy\n",
    "\n",
    "from bokeh.plotting import output_notebook, show, figure, ColumnDataSource\n",
    "from bokeh.models import Span\n",
    "from bokeh.io import push_notebook\n",
    "output_notebook()\n",
    "\n",
    "from ipywidgets import widgets, interactive\n",
    "from IPython.display import display\n",
    "\n",
    "# Get current sensors database from raspberry pi\n",
    "df = pandas.read_csv('sensors.log',names = [\"Level\", \"Sensor\", \"Time\", \"Value\"],\n",
    "                    parse_dates=['Time'])\n",
    "\n",
    "df.index.name = 'ID'\n",
    "\n",
    "# Get temperature values\n",
    "temp = df.loc[df['Sensor'] == 'T']\n",
    "\n",
    "# Draw temperature vs time\n",
    "p = figure(width=850, height=350, x_axis_type=\"datetime\")\n",
    "p.line(temp['Time'],temp['Value'],line_width=2)\n",
    "p.xaxis.axis_label = 'Time'\n",
    "p.yaxis.axis_label = 'Temperature'\n",
    "\n",
    "#Init threshold lines\n",
    "minline = Span(dimension='width', line_color='blue', line_width=1)\n",
    "maxline = Span(dimension='width', line_color='red', line_width=1)\n",
    "p.add_layout(minline)\n",
    "p.add_layout(maxline)\n",
    "\n",
    "# Callback to get user limits\n",
    "def Analysis(Tmin, Tmax):\n",
    "    print('Safe range of temperatures (°C): [{}, {}] '.format(Tmin, Tmax))\n",
    "    minline.location = Tmin\n",
    "    maxline.location = Tmax\n",
    "    push_notebook()\n",
    "\n",
    "# Display description\n",
    "w = interactive(Analysis, Tmin=(-40.0,70.0), Tmax=(-40.0,70.0),__manual=True)\n",
    "display(w)"
   ]
  },
  {
   "cell_type": "code",
   "execution_count": null,
   "metadata": {
    "collapsed": false
   },
   "outputs": [],
   "source": [
    "show(p, notebook_handle=True)"
   ]
  },
  {
   "cell_type": "code",
   "execution_count": null,
   "metadata": {
    "collapsed": false
   },
   "outputs": [],
   "source": [
    "df = pandas.read_csv('sensors.log',names = [\"Level\", \"Sensor\", \"Time\", \"Value\"],\n",
    "                    parse_dates=['Time'])\n",
    "temp = df.loc[df['Sensor'] == 'T']"
   ]
  },
  {
   "cell_type": "code",
   "execution_count": null,
   "metadata": {
    "collapsed": false
   },
   "outputs": [],
   "source": [
    "temp.reset_index(inplace=True)\n",
    "temp_id = temp [['Time','Value']]"
   ]
  },
  {
   "cell_type": "code",
   "execution_count": null,
   "metadata": {
    "collapsed": true
   },
   "outputs": [],
   "source": [
    "temp_sel = temp_id[(temp_id['Value'] < 15) | (temp_id['Value'] > 40.5)].copy()\n",
    "temp_sel"
   ]
  },
  {
   "cell_type": "code",
   "execution_count": null,
   "metadata": {
    "collapsed": true
   },
   "outputs": [],
   "source": [
    "temp_group = temp_sel.groupby(temp_sel.index - numpy.arange(temp_sel.shape[0]))\n",
    "for _, group in temp_group:\n",
    "#    print(i[1].iloc[[0, -1]])\n",
    "    print(group)"
   ]
  },
  {
   "cell_type": "markdown",
   "metadata": {},
   "source": [
    "TODO\n",
    "index / start date / stop date / duration / max / average ?\n",
    "\n",
    "select plot interval by index"
   ]
  }
 ],
 "metadata": {
  "kernelspec": {
   "display_name": "Python 3",
   "language": "python",
   "name": "python3"
  },
  "language_info": {
   "codemirror_mode": {
    "name": "ipython",
    "version": 3
   },
   "file_extension": ".py",
   "mimetype": "text/x-python",
   "name": "python",
   "nbconvert_exporter": "python",
   "pygments_lexer": "ipython3",
   "version": "3.5.2"
  },
  "widgets": {
   "state": {
    "b570382a13af48a5b4d29f8729ede480": {
     "views": [
      {
       "cell_index": 1
      }
     ]
    }
   },
   "version": "1.2.0"
  }
 },
 "nbformat": 4,
 "nbformat_minor": 2
}
