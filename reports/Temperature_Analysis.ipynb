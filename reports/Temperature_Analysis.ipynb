{
 "cells": [
  {
   "cell_type": "markdown",
   "metadata": {},
   "source": [
    "# Temperature Analysis"
   ]
  },
  {
   "cell_type": "code",
   "execution_count": null,
   "metadata": {
    "collapsed": false,
    "scrolled": true
   },
   "outputs": [],
   "source": [
    "import pandas\n",
    "import numpy\n",
    "\n",
    "from bokeh.plotting import output_notebook, show, figure, ColumnDataSource\n",
    "from bokeh.models import Span\n",
    "from bokeh.io import push_notebook\n",
    "output_notebook()\n",
    "\n",
    "from ipywidgets import widgets, interactive\n",
    "from IPython.display import display\n",
    "\n",
    "from collections import OrderedDict\n",
    "\n",
    "import datetime\n",
    "\n",
    "# Get current sensors database from raspberry pi\n",
    "df = pandas.read_csv('sensors.log',names = [\"Level\", \"Sensor\", \"Time\", \"Value\"],\n",
    "                    parse_dates=['Time'])\n",
    "\n",
    "df.index.name = 'ID'\n",
    "\n",
    "# Get temperature values\n",
    "temp = df.loc[df['Sensor'] == 'T']\n",
    "\n",
    "# Draw temperature vs time\n",
    "p = figure(width=850, height=350, x_axis_type=\"datetime\")\n",
    "p.line(temp['Time'],temp['Value'],line_width=2)\n",
    "p.xaxis.axis_label = 'Time'\n",
    "p.yaxis.axis_label = 'Temperature'\n",
    "\n",
    "#Init threshold lines\n",
    "minline = Span(dimension='width', line_color='blue', line_width=1)\n",
    "maxline = Span(dimension='width', line_color='red', line_width=1)\n",
    "p.add_layout(minline)\n",
    "p.add_layout(maxline)\n",
    "\n",
    "# Callback to get user limits\n",
    "def Analysis(Tmin, Tmax):\n",
    "    print('Safe range of temperatures (°C): [{}, {}] '.format(Tmin, Tmax))\n",
    "    minline.location = Tmin\n",
    "    maxline.location = Tmax\n",
    "    temp.reset_index(inplace=True)\n",
    "    temp_sel = temp[(temp['Value'] < Tmin) | (temp['Value'] > Tmax)].copy()\n",
    "    temp_group = temp_sel.groupby(temp_sel.index - numpy.arange(temp_sel.shape[0]))\n",
    "    results = []\n",
    "    for _, group in temp_group:\n",
    "        d = OrderedDict()\n",
    "        d['Start_date'] = group.iloc[0]['Time']\n",
    "        d['Stop_date'] = group.iloc[-1]['Time']\n",
    "        d['Duration'] = d['Stop_date'] - d['Start_date']\n",
    "        d['Max'] = group['Value'].max()\n",
    "        d['Average'] = group['Value'].mean()\n",
    "        results.append(d)\n",
    "    df_group = pandas.DataFrame(results)\n",
    "    df_group = df_group[df_group['Duration'] > datetime.timedelta(minutes=1)]\n",
    "    push_notebook()\n",
    "    return df_group\n",
    "\n",
    "# Display description\n",
    "w = interactive(Analysis, Tmin=(0.0,40.0), Tmax=(0.0,40.0),__manual=True)\n",
    "display(w)"
   ]
  },
  {
   "cell_type": "code",
   "execution_count": null,
   "metadata": {
    "collapsed": false,
    "scrolled": true
   },
   "outputs": [],
   "source": [
    "show(p, notebook_handle=True)"
   ]
  }
 ],
 "metadata": {
  "kernelspec": {
   "display_name": "Python 3",
   "language": "python",
   "name": "python3"
  },
  "language_info": {
   "codemirror_mode": {
    "name": "ipython",
    "version": 3
   },
   "file_extension": ".py",
   "mimetype": "text/x-python",
   "name": "python",
   "nbconvert_exporter": "python",
   "pygments_lexer": "ipython3",
   "version": "3.6.0"
  },
  "widgets": {
   "state": {
    "2b3d8bb61b8e4a598558cc061a44831f": {
     "views": [
      {
       "cell_index": 1
      }
     ]
    }
   },
   "version": "1.2.0"
  }
 },
 "nbformat": 4,
 "nbformat_minor": 2
}
